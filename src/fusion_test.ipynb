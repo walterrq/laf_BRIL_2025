{
 "cells": [
  {
   "cell_type": "code",
   "execution_count": 4,
   "id": "64650dbd-1df3-4069-b378-423dc3fa2b3a",
   "metadata": {},
   "outputs": [],
   "source": [
    "# # PLT Analysis Notebook\n",
    "# \n",
    "# Este notebook divide el proceso en dos partes:\n",
    "# 1. Generación del DataFrame `final_df` (similar al script original)\n",
    "# 2. Debugging de la parte posterior del procesamiento\n",
    "\n",
    "# %% [markdown]\n",
    "# ## 1. Configuración inicial y dependencias"
   ]
  },
  {
   "cell_type": "code",
   "execution_count": 12,
   "id": "8531345f-98d1-439d-80e2-b612f1ae4c58",
   "metadata": {},
   "outputs": [],
   "source": [
    "import json\n",
    "from pathlib import Path\n",
    "from typing import Dict, Tuple, List\n",
    "import pandas as pd\n",
    "import numpy as np\n",
    "from numba import njit, prange\n",
    "import argparse\n",
    "import sys\n",
    "import os\n",
    "import argparse"
   ]
  },
  {
   "cell_type": "code",
   "execution_count": 15,
   "id": "58f215ca-1657-4704-a9d6-9c10d89fee1b",
   "metadata": {},
   "outputs": [
    {
     "ename": "ModuleNotFoundError",
     "evalue": "No module named 'adtk'",
     "output_type": "error",
     "traceback": [
      "\u001b[0;31m---------------------------------------------------------------------------\u001b[0m",
      "\u001b[0;31mModuleNotFoundError\u001b[0m                       Traceback (most recent call last)",
      "\u001b[0;32m/tmp/ipykernel_1303/1728124160.py\u001b[0m in \u001b[0;36m<module>\u001b[0;34m\u001b[0m\n\u001b[1;32m     16\u001b[0m \u001b[0;31m#from sklearn.preprocessing import StandardScaler\u001b[0m\u001b[0;34m\u001b[0m\u001b[0;34m\u001b[0m\u001b[0m\n\u001b[1;32m     17\u001b[0m \u001b[0;32mfrom\u001b[0m \u001b[0mpoggers\u001b[0m\u001b[0;34m.\u001b[0m\u001b[0moptions\u001b[0m \u001b[0;32mimport\u001b[0m \u001b[0mPoggerOptions\u001b[0m\u001b[0;34m\u001b[0m\u001b[0;34m\u001b[0m\u001b[0m\n\u001b[0;32m---> 18\u001b[0;31m \u001b[0;32mfrom\u001b[0m \u001b[0madtk\u001b[0m\u001b[0;34m.\u001b[0m\u001b[0mdetector\u001b[0m \u001b[0;32mimport\u001b[0m \u001b[0mLevelShiftAD\u001b[0m\u001b[0;34m,\u001b[0m \u001b[0mPersistAD\u001b[0m\u001b[0;34m\u001b[0m\u001b[0;34m\u001b[0m\u001b[0m\n\u001b[0m\u001b[1;32m     19\u001b[0m \u001b[0;31m#from adtk.data import validate_series\u001b[0m\u001b[0;34m\u001b[0m\u001b[0;34m\u001b[0m\u001b[0m\n\u001b[1;32m     20\u001b[0m \u001b[0;32mfrom\u001b[0m \u001b[0msklearn\u001b[0m\u001b[0;34m.\u001b[0m\u001b[0mlinear_model\u001b[0m \u001b[0;32mimport\u001b[0m \u001b[0mHuberRegressor\u001b[0m\u001b[0;34m\u001b[0m\u001b[0;34m\u001b[0m\u001b[0m\n",
      "\u001b[0;31mModuleNotFoundError\u001b[0m: No module named 'adtk'"
     ]
    }
   ],
   "source": [
    "import json\n",
    "import numpy as np\n",
    "from poggers.io import read_fill\n",
    "from poggers.models import sub_nl\n",
    "from poggers._utils import get_scan_timestamps\n",
    "from typing import Any\n",
    "import pandas as pd\n",
    "import matplotlib.pyplot as plt\n",
    "import matplotlib.gridspec as gridspec\n",
    "import seaborn as sns\n",
    "import os\n",
    "from itertools import combinations\n",
    "from pathlib import Path\n",
    "#from model.preprocessor import DifferencePreprocessor\n",
    "#from sklearn.ensemble import IsolationForest\n",
    "#from sklearn.preprocessing import StandardScaler\n",
    "from poggers.options import PoggerOptions\n",
    "from adtk.detector import LevelShiftAD, PersistAD\n",
    "#from adtk.data import validate_series\n",
    "from sklearn.linear_model import HuberRegressor\n",
    "from scipy.stats import linregress\n",
    "import mplhep as hep\n",
    "import warnings"
   ]
  },
  {
   "cell_type": "code",
   "execution_count": 13,
   "id": "1e992431-fe43-4b73-8bc4-b75ee20aaf8d",
   "metadata": {},
   "outputs": [
    {
     "ename": "ModuleNotFoundError",
     "evalue": "No module named 'adtk'",
     "output_type": "error",
     "traceback": [
      "\u001b[0;31m---------------------------------------------------------------------------\u001b[0m",
      "\u001b[0;31mModuleNotFoundError\u001b[0m                       Traceback (most recent call last)",
      "\u001b[0;32m/tmp/ipykernel_1303/3769263799.py\u001b[0m in \u001b[0;36m<module>\u001b[0;34m\u001b[0m\n\u001b[1;32m      1\u001b[0m \u001b[0;31m# Importaciones específicas del proyecto\u001b[0m\u001b[0;34m\u001b[0m\u001b[0;34m\u001b[0m\u001b[0m\n\u001b[1;32m      2\u001b[0m \u001b[0msys\u001b[0m\u001b[0;34m.\u001b[0m\u001b[0mpath\u001b[0m\u001b[0;34m.\u001b[0m\u001b[0minsert\u001b[0m\u001b[0;34m(\u001b[0m\u001b[0;36m0\u001b[0m\u001b[0;34m,\u001b[0m \u001b[0mos\u001b[0m\u001b[0;34m.\u001b[0m\u001b[0mpath\u001b[0m\u001b[0;34m.\u001b[0m\u001b[0mabspath\u001b[0m\u001b[0;34m(\u001b[0m\u001b[0;34m'.'\u001b[0m\u001b[0;34m)\u001b[0m\u001b[0;34m)\u001b[0m\u001b[0;34m\u001b[0m\u001b[0;34m\u001b[0m\u001b[0m\n\u001b[0;32m----> 3\u001b[0;31m \u001b[0;32mfrom\u001b[0m \u001b[0mmodel\u001b[0m\u001b[0;34m.\u001b[0m\u001b[0mfigure_of_merit\u001b[0m \u001b[0;32mimport\u001b[0m \u001b[0mProcessor\u001b[0m\u001b[0;34m\u001b[0m\u001b[0;34m\u001b[0m\u001b[0m\n\u001b[0m\u001b[1;32m      4\u001b[0m \u001b[0;32mfrom\u001b[0m \u001b[0mmodel\u001b[0m\u001b[0;34m.\u001b[0m\u001b[0mpreprocessor\u001b[0m \u001b[0;32mimport\u001b[0m \u001b[0mDifferencePreprocessor\u001b[0m\u001b[0;34m\u001b[0m\u001b[0;34m\u001b[0m\u001b[0m\n\u001b[1;32m      5\u001b[0m \u001b[0;32mfrom\u001b[0m \u001b[0mpoggers\u001b[0m\u001b[0;34m.\u001b[0m\u001b[0mio\u001b[0m \u001b[0;32mimport\u001b[0m \u001b[0mread_fill\u001b[0m\u001b[0;34m\u001b[0m\u001b[0;34m\u001b[0m\u001b[0m\n",
      "\u001b[0;32m/eos/home-i01/w/warodrig/project_cms/gitown/laf/src/model/figure_of_merit.py\u001b[0m in \u001b[0;36m<module>\u001b[0;34m\u001b[0m\n\u001b[1;32m     16\u001b[0m \u001b[0;32mfrom\u001b[0m \u001b[0msklearn\u001b[0m\u001b[0;34m.\u001b[0m\u001b[0mpreprocessing\u001b[0m \u001b[0;32mimport\u001b[0m \u001b[0mStandardScaler\u001b[0m\u001b[0;34m\u001b[0m\u001b[0;34m\u001b[0m\u001b[0m\n\u001b[1;32m     17\u001b[0m \u001b[0;32mfrom\u001b[0m \u001b[0mpoggers\u001b[0m\u001b[0;34m.\u001b[0m\u001b[0moptions\u001b[0m \u001b[0;32mimport\u001b[0m \u001b[0mPoggerOptions\u001b[0m\u001b[0;34m\u001b[0m\u001b[0;34m\u001b[0m\u001b[0m\n\u001b[0;32m---> 18\u001b[0;31m \u001b[0;32mfrom\u001b[0m \u001b[0madtk\u001b[0m\u001b[0;34m.\u001b[0m\u001b[0mdetector\u001b[0m \u001b[0;32mimport\u001b[0m \u001b[0mLevelShiftAD\u001b[0m\u001b[0;34m,\u001b[0m \u001b[0mPersistAD\u001b[0m\u001b[0;34m\u001b[0m\u001b[0;34m\u001b[0m\u001b[0m\n\u001b[0m\u001b[1;32m     19\u001b[0m \u001b[0;32mfrom\u001b[0m \u001b[0madtk\u001b[0m\u001b[0;34m.\u001b[0m\u001b[0mdata\u001b[0m \u001b[0;32mimport\u001b[0m \u001b[0mvalidate_series\u001b[0m\u001b[0;34m\u001b[0m\u001b[0;34m\u001b[0m\u001b[0m\n\u001b[1;32m     20\u001b[0m \u001b[0;32mfrom\u001b[0m \u001b[0msklearn\u001b[0m\u001b[0;34m.\u001b[0m\u001b[0mlinear_model\u001b[0m \u001b[0;32mimport\u001b[0m \u001b[0mHuberRegressor\u001b[0m\u001b[0;34m\u001b[0m\u001b[0;34m\u001b[0m\u001b[0m\n",
      "\u001b[0;31mModuleNotFoundError\u001b[0m: No module named 'adtk'"
     ]
    }
   ],
   "source": [
    "# Importaciones específicas del proyecto\n",
    "sys.path.insert(0, os.path.abspath('.'))\n",
    "from model.figure_of_merit import Processor\n",
    "from model.preprocessor import DifferencePreprocessor\n",
    "from poggers.io import read_fill\n",
    "from poggers.iterator import CentralIterator\n",
    "from poggers.processor.mu_processor import MuProcessorExtension, MuProcessor\n",
    "from poggers.models import sub_nl\n",
    "from poggers.runner import runner"
   ]
  },
  {
   "cell_type": "code",
   "execution_count": null,
   "id": "8d54fed1-683b-4e8c-abda-08b74e152119",
   "metadata": {},
   "outputs": [],
   "source": [
    "# ## 2. Funciones necesarias (copiadas del script original)"
   ]
  },
  {
   "cell_type": "code",
   "execution_count": null,
   "id": "5c39acef-3e03-4172-9f80-692da1a3b1ed",
   "metadata": {},
   "outputs": [],
   "source": [
    "@njit(parallel=True)\n",
    "def numba_process_batch(data: np.ndarray, nbx: int, bxmask: np.ndarray) -> np.ndarray:\n",
    "    n_rows = data.shape[0]\n",
    "    \n",
    "    out = np.empty(n_rows)\n",
    "    for i in prange(n_rows):\n",
    "        idata = data[i]\n",
    "        \n",
    "        data_clipped = np.minimum(idata, 2**14)\n",
    "        bxraw = -np.log(data_clipped / (2**14))\n",
    "        bxraw = np.where(np.isnan(bxraw) | np.isinf(bxraw), 0.0, bxraw)\n",
    "        \n",
    "        avgraw = np.sum(bxraw * bxmask)\n",
    "        out[i] = avgraw\n",
    "\n",
    "    return out\n",
    "\n",
    "class PLTAggExtension(MuProcessorExtension):\n",
    "    def __init__(self, svs: Dict[int, float], effs: Dict[int, float], lins: Dict[int, float]):\n",
    "        self.svs = svs\n",
    "        self.effs = effs\n",
    "        self.lins = lins\n",
    "\n",
    "    def process_batch(self, batch: pd.DataFrame, nbx: int, bxmask: np.ndarray) -> pd.DataFrame:\n",
    "        data = np.stack(batch.data)\n",
    "        batch[\"avgraw\"] = numba_process_batch(data, nbx, bxmask)\n",
    "        return batch[[\"lsnum\", \"nbnum\", \"timestampsec\", \"channelid\", \"avgraw\"]]\n",
    "\n",
    "    def build_dataframe(self, buffer: List[pd.DataFrame], nbx: int) -> pd.DataFrame:\n",
    "        df = pd.concat(buffer).rename(columns={\n",
    "                \"timestampsec\": \"time\",\n",
    "                \"channelid\": \"chid\",\n",
    "        }).pivot_table(\n",
    "            index=[\"lsnum\", \"nbnum\"], values=[\"avgraw\", \"time\"], columns=[\"chid\"]\n",
    "        )\n",
    "        avg_time = df[\"time\"].mean(axis=1).reset_index(drop=True)\n",
    "        df = df.drop(columns=[\"time\"], level=0)\n",
    "        df.columns = df.columns.droplevel(0).rename(None)\n",
    "        df = df.reset_index()\n",
    "        df.insert(2, \"time\", avg_time)\n",
    "        df = self._apply_lin(df, nbx)\n",
    "        df = self._apply_svs(df)\n",
    "        return df\n",
    "\n",
    "    def _apply_lin(self, df: pd.DataFrame, nbx: int) -> pd.DataFrame:\n",
    "        channels = list(self.lins.keys())\n",
    "        lins = np.array(list(self.lins.values()))\n",
    "        df[channels] = sub_nl(df[channels].T, lins[:, np.newaxis], nbx).T\n",
    "        return df\n",
    "\n",
    "    def _apply_svs(self, df: pd.DataFrame) -> pd.DataFrame:\n",
    "        channels = list(self.svs.keys())\n",
    "        svs = np.array(list(self.svs.values()))\n",
    "        effs = np.array(list(self.effs.values()))\n",
    "        df[channels] = df[channels] * 11245.5 / (svs * effs)\n",
    "        return df\n",
    "\n",
    "def load_corrections(fill: int, path: Path) -> Tuple[Dict[int, float], Dict[int, float]]:\n",
    "    with open(path, \"r\") as f:\n",
    "        corrections: Dict[str, Dict[str, float]] = json.load(f)[str(fill)]\n",
    "    channels = np.array(list(map(int, corrections[\"eff\"].keys())))\n",
    "    effs = np.array([corrections[\"eff\"][str(ch)] for ch in channels])\n",
    "    lins = np.array([corrections[\"lin\"][str(ch)] for ch in channels])\n",
    "    lafs = np.array([corrections[\"laf\"][str(ch)] for ch in channels])\n",
    "    bad_channels_mask = np.isnan(effs) | np.isnan(lins) | (lafs == False)\n",
    "    channels = channels[~bad_channels_mask]\n",
    "    effs = effs[~bad_channels_mask]\n",
    "    lins = lins[~bad_channels_mask]\n",
    "    return dict(zip(channels.tolist(), effs)), dict(zip(channels.tolist(), lins))\n",
    "\n",
    "def load_calibrations(path: Path) -> Dict[int, float]:\n",
    "    with open(path, \"r\") as f:\n",
    "        calibrations: Dict[str, float] = json.load(f)\n",
    "    channels = np.array(list(map(int, calibrations.keys())))\n",
    "    sigmas = np.array([calibrations[str(ch)] for ch in channels])\n",
    "    bad_channels_mask = np.isnan(sigmas)\n",
    "    channels = channels[~bad_channels_mask]\n",
    "    sigmas = sigmas[~bad_channels_mask]\n",
    "    return dict(zip(channels, sigmas))"
   ]
  }
 ],
 "metadata": {
  "kernelspec": {
   "display_name": "Python 3",
   "language": "python",
   "name": "python3"
  },
  "language_info": {
   "codemirror_mode": {
    "name": "ipython",
    "version": 3
   },
   "file_extension": ".py",
   "mimetype": "text/x-python",
   "name": "python",
   "nbconvert_exporter": "python",
   "pygments_lexer": "ipython3",
   "version": "3.9.12"
  }
 },
 "nbformat": 4,
 "nbformat_minor": 5
}
